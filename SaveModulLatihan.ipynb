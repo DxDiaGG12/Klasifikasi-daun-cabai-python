{
 "cells": [
  {
   "cell_type": "code",
   "execution_count": 4,
   "id": "ed844106-96f0-4bfc-ab6a-9cc2fed9f447",
   "metadata": {},
   "outputs": [
    {
     "name": "stdout",
     "output_type": "stream",
     "text": [
      "Found 1009 images belonging to 2 classes.\n",
      "Found 1972 images belonging to 2 classes.\n",
      "Epoch 1/10\n",
      "32/32 [==============================] - 515s 16s/step - loss: 1.2648 - accuracy: 0.6462 - val_loss: 1.0492 - val_accuracy: 0.0963\n",
      "Epoch 2/10\n",
      "32/32 [==============================] - 459s 14s/step - loss: 0.3978 - accuracy: 0.8196 - val_loss: 0.8677 - val_accuracy: 0.4802\n",
      "Epoch 3/10\n",
      "32/32 [==============================] - 436s 14s/step - loss: 0.3158 - accuracy: 0.8722 - val_loss: 0.2246 - val_accuracy: 0.9052\n",
      "Epoch 4/10\n",
      "32/32 [==============================] - 427s 13s/step - loss: 0.2129 - accuracy: 0.9118 - val_loss: 0.0882 - val_accuracy: 0.9640\n",
      "Epoch 5/10\n",
      "32/32 [==============================] - 600s 19s/step - loss: 0.1775 - accuracy: 0.9395 - val_loss: 0.2147 - val_accuracy: 0.9158\n",
      "Epoch 6/10\n",
      "32/32 [==============================] - 906s 29s/step - loss: 0.1861 - accuracy: 0.9356 - val_loss: 0.0995 - val_accuracy: 0.9574\n",
      "Epoch 7/10\n",
      "32/32 [==============================] - 931s 29s/step - loss: 0.1605 - accuracy: 0.9445 - val_loss: 0.3186 - val_accuracy: 0.8428\n",
      "Epoch 8/10\n",
      "32/32 [==============================] - 904s 28s/step - loss: 0.1800 - accuracy: 0.9425 - val_loss: 0.3014 - val_accuracy: 0.8575\n",
      "Epoch 9/10\n",
      "32/32 [==============================] - 447s 14s/step - loss: 0.1919 - accuracy: 0.9296 - val_loss: 0.1114 - val_accuracy: 0.9574\n",
      "Epoch 10/10\n",
      "32/32 [==============================] - 439s 14s/step - loss: 0.1413 - accuracy: 0.9504 - val_loss: 0.1260 - val_accuracy: 0.9549\n"
     ]
    },
    {
     "name": "stderr",
     "output_type": "stream",
     "text": [
      "C:\\Users\\defti\\AppData\\Local\\Programs\\Python\\Python311\\Lib\\site-packages\\keras\\src\\engine\\training.py:3000: UserWarning: You are saving your model as an HDF5 file via `model.save()`. This file format is considered legacy. We recommend using instead the native Keras format, e.g. `model.save('my_model.keras')`.\n",
      "  saving_api.save_model(\n"
     ]
    },
    {
     "name": "stdout",
     "output_type": "stream",
     "text": [
      "INFO:tensorflow:Assets written to: C:\\Users\\defti\\AppData\\Local\\Temp\\tmp0_nnpbdd\\assets\n"
     ]
    },
    {
     "name": "stderr",
     "output_type": "stream",
     "text": [
      "INFO:tensorflow:Assets written to: C:\\Users\\defti\\AppData\\Local\\Temp\\tmp0_nnpbdd\\assets\n"
     ]
    }
   ],
   "source": [
    "import tensorflow as tf\n",
    "from tensorflow.keras.preprocessing.image import ImageDataGenerator\n",
    "from tensorflow.keras.models import Sequential\n",
    "from tensorflow.keras.layers import Conv2D, MaxPooling2D, Flatten, Dense\n",
    "\n",
    "# Definisikan arsitektur model\n",
    "model = Sequential([\n",
    "    Conv2D(32, (3, 3), activation='relu', input_shape=(360, 512, 3)),\n",
    "    MaxPooling2D(2, 2),\n",
    "    Conv2D(64, (3, 3), activation='relu'),\n",
    "    MaxPooling2D(2, 2),\n",
    "    Conv2D(128, (3, 3), activation='relu'),\n",
    "    MaxPooling2D(2, 2),\n",
    "    Flatten(),\n",
    "    Dense(128, activation='relu'),\n",
    "    Dense(2, activation='softmax')  # 2 kelas: Daun Cabai Ciko dan Daun Cabai Tanjung\n",
    "])\n",
    "\n",
    "# Kompilasi model\n",
    "model.compile(optimizer='adam', loss='categorical_crossentropy', metrics=['accuracy'])\n",
    "\n",
    "# Augmentasi dan load data\n",
    "train_datagen = ImageDataGenerator(\n",
    "    rescale=1.0/255.0,\n",
    "    rotation_range=40,\n",
    "    width_shift_range=0.2,\n",
    "    height_shift_range=0.2,\n",
    "    shear_range=0.2,\n",
    "    zoom_range=0.2,\n",
    "    horizontal_flip=True,\n",
    "    fill_mode='nearest')\n",
    "\n",
    "train_generator = train_datagen.flow_from_directory(\n",
    "    'Dataset_Daun_Cabai\\Train',\n",
    "    target_size=(360, 512),\n",
    "    batch_size=32,\n",
    "    class_mode='categorical')\n",
    "\n",
    "validation_datagen = ImageDataGenerator(rescale=1.0/255.0)\n",
    "\n",
    "validation_generator = validation_datagen.flow_from_directory(\n",
    "    'Dataset_Daun_Cabai\\Validation',\n",
    "    target_size=(360, 512),\n",
    "    batch_size=32,\n",
    "    class_mode='categorical')\n",
    "\n",
    "# Melatih model\n",
    "model.fit(train_generator, epochs=10, validation_data=validation_generator)\n",
    "\n",
    "# Simpan model setelah pelatihan\n",
    "model.save('Dataset_Daun_Cabai\\DaunCabai_Ciko_Tanjung_classification_model_v2.h5')\n",
    "\n",
    "# Konversi model ke format TensorFlow Lite\n",
    "converter = tf.lite.TFLiteConverter.from_keras_model(model)\n",
    "tflite_model = converter.convert()\n",
    "\n",
    "# Simpan model TensorFlow Lite ke file\n",
    "with open('DaunCabai_Ciko_Tanjung_classification_model_v2.tflite', 'wb') as f:\n",
    "    f.write(tflite_model)\n"
   ]
  },
  {
   "cell_type": "code",
   "execution_count": null,
   "id": "2d616246-b899-4850-bf73-0e60d30ef5b2",
   "metadata": {},
   "outputs": [],
   "source": []
  }
 ],
 "metadata": {
  "kernelspec": {
   "display_name": "Python 3 (ipykernel)",
   "language": "python",
   "name": "python3"
  },
  "language_info": {
   "codemirror_mode": {
    "name": "ipython",
    "version": 3
   },
   "file_extension": ".py",
   "mimetype": "text/x-python",
   "name": "python",
   "nbconvert_exporter": "python",
   "pygments_lexer": "ipython3",
   "version": "3.11.4"
  }
 },
 "nbformat": 4,
 "nbformat_minor": 5
}
