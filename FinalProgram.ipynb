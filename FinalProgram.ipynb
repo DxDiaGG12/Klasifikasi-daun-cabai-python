{
 "cells": [
  {
   "cell_type": "code",
   "execution_count": 5,
   "id": "604f330a-4c54-4930-8727-ee5ad456cd19",
   "metadata": {},
   "outputs": [
    {
     "name": "stdout",
     "output_type": "stream",
     "text": [
      "WARNING:tensorflow:5 out of the last 5 calls to <function Model.make_predict_function.<locals>.predict_function at 0x000001DE5364A0C0> triggered tf.function retracing. Tracing is expensive and the excessive number of tracings could be due to (1) creating @tf.function repeatedly in a loop, (2) passing tensors with different shapes, (3) passing Python objects instead of tensors. For (1), please define your @tf.function outside of the loop. For (2), @tf.function has reduce_retracing=True option that can avoid unnecessary retracing. For (3), please refer to https://www.tensorflow.org/guide/function#controlling_retracing and https://www.tensorflow.org/api_docs/python/tf/function for  more details.\n",
      "1/1 [==============================] - 0s 164ms/step\n",
      "Jenis daun: Ciko\n",
      "Akurasi: 100.00%\n"
     ]
    }
   ],
   "source": [
    "import cv2\n",
    "import numpy as np\n",
    "from tensorflow.keras.models import load_model\n",
    "\n",
    "# Load model yang telah dilatih\n",
    "model = load_model('Dataset_Daun_Cabai\\DaunCabai_Ciko_Tanjung_classification_model.h5')  # Ganti dengan jalur ke model yang sesuai\n",
    "\n",
    "# Path ke gambar yang akan diidentifikasi\n",
    "image_path = 'Dataset_Daun_Cabai\\DaunCabai-Ciko-gelap.jpg'  # Ganti dengan jalur ke gambar yang ingin diidentifikasi\n",
    "\n",
    "# Membaca gambar menggunakan OpenCV\n",
    "img = cv2.imread(image_path)\n",
    "img = cv2.cvtColor(img, cv2.COLOR_BGR2RGB)  # Mengubah mode warna BGR ke RGB\n",
    "\n",
    "# Mengubah ukuran gambar menjadi yang diharapkan oleh model (misalnya, 360x512)\n",
    "img = cv2.resize(img, (512, 360))\n",
    "\n",
    "# Normalisasi gambar\n",
    "#mean = np.array([0.485, 0.456, 0.406])  # Rata-rata channel (RGB) dari dataset pelatihan\n",
    "#std = np.array([0.229, 0.224, 0.225])   # Deviasi standar channel (RGB) dari dataset pelatihan\n",
    "#img = img / 255.0  # Skala nilai piksel menjadi [0, 1] terlebih dahulu\n",
    "#img = (img - mean) / std  # Normalisasi dengan mengurangkan rata-rata dan membagi dengan deviasi standar\n",
    "\n",
    "\n",
    "# Memperluas dimensi gambar untuk cocok dengan input model (1, 360, 512, 3)\n",
    "img = np.expand_dims(img, axis=0)\n",
    "\n",
    "# Prediksi kelas gambar\n",
    "predictions = model.predict(img)\n",
    "\n",
    "# Klasifikasi hasil prediksi\n",
    "if predictions[0][0] > predictions[0][1]:\n",
    "    class_label = 'Ciko'\n",
    "    accuracy = predictions[0][0] * 100  # Akurasi untuk kelas Ciko\n",
    "else:\n",
    "    class_label = 'Tanjung'\n",
    "    accuracy = predictions[0][1] * 100  # Akurasi untuk kelas Tanjung\n",
    "\n",
    "print(f\"Jenis daun: {class_label}\")\n",
    "print(f\"Akurasi: {accuracy:.2f}%\")\n"
   ]
  },
  {
   "cell_type": "code",
   "execution_count": null,
   "id": "1261a0e5-4d93-4476-9d82-abac43bc0320",
   "metadata": {},
   "outputs": [],
   "source": []
  }
 ],
 "metadata": {
  "kernelspec": {
   "display_name": "Python 3 (ipykernel)",
   "language": "python",
   "name": "python3"
  },
  "language_info": {
   "codemirror_mode": {
    "name": "ipython",
    "version": 3
   },
   "file_extension": ".py",
   "mimetype": "text/x-python",
   "name": "python",
   "nbconvert_exporter": "python",
   "pygments_lexer": "ipython3",
   "version": "3.11.4"
  }
 },
 "nbformat": 4,
 "nbformat_minor": 5
}
